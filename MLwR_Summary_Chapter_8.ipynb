{
  "nbformat": 4,
  "nbformat_minor": 0,
  "metadata": {
    "colab": {
      "name": "MLwR_Summary-Chapter-8.ipynb",
      "provenance": [],
      "collapsed_sections": [],
      "toc_visible": true
    },
    "kernelspec": {
      "name": "ir",
      "display_name": "R"
    }
  },
  "cells": [
    {
      "cell_type": "markdown",
      "metadata": {
        "id": "JR7OlC7sQGPk",
        "colab_type": "text"
      },
      "source": [
        "# Chapter 8: Finding Patterns - Market Basket Analysis Using Association Rules\n",
        "Machine Learning with R - Brett Lantz \n",
        "\n",
        "---\n",
        "\n"
      ]
    },
    {
      "cell_type": "markdown",
      "metadata": {
        "id": "AMcG-f7vSkgi",
        "colab_type": "text"
      },
      "source": [
        "Impulse purchases are often no coincidence as retailers use refined techniques to analyze customer buying behavior. Using this example, Chapter 8 describes and explains how machine learning algorithms are able to search for purchasing patterns of retail customers using barcode scanners, inventory databases and online shopping cards. This search is commonly referred to as market basket analysis. \n"
      ]
    },
    {
      "cell_type": "markdown",
      "metadata": {
        "id": "aagEaJjGZmom",
        "colab_type": "text"
      },
      "source": [
        "## Theoretical basics\n",
        "This part aims to provide the reader with an theoretical understanding of the underlying concepts of market basket analysis.\n",
        "### Understanding association rules\n",
        "The goal of market basket analyses is the generation of association rules which enumerate patterns within the relationship among (purchased) items. An itemset is a group of one or more items in a single transaction and is denoted as follows: \n",
        "> {bread, peanut butter, jelly}.\n",
        "\n",
        "Resulting from this, the denotation of association rules is\n",
        "\n",
        "> {peanut butter,jelly} → {bread}. .\n",
        "\n",
        "The left-hand-side (LHS) is the condition that has to be met in order to trigger the rule and the right-hand-side (RHS) is the expected result of meeting that condition.  \n",
        "Association rules are unsupervised learners which means that there is no need for the algorithm to be trained as it only finds interesting patterns in the dataset. Furthermore, they are used for knowledge discovery in large datasets rather than predictions. The foremost downside of association rules is the absence of an objective way to measure performance rule learner. \n",
        "\n",
        "### The apriori algorithm\n",
        "The datasets used for market basket analyses are almost always large. The number of potential itemsets grows exponentially with the number of features. The apriori algorithm constitutes a solution for this dilemma as the algorithm utilizes a simple prior belief about the properties of frequent itemsets. The apriori property suggests that all subsets of a frequent itemset must also be frequent: If either {motor oil} or {lipstick} or both are considered infrequent the itemset {motor oil, lipstick} is eliminated as well. This approach reduces the number of rules for which the algorithm searches.\n",
        "\n",
        "The algorithm uses statistical measures, namely support, confidence and lift, of an itemset to define a minimum threshold and to locate association rules. The **support** of an itemset answers the question of how frequently an itemset or rule occur in the data. \n",
        "A rule’s **confidence** is the measurement of its predictive power/accuracy and is defined with the following formula: \n",
        "\n",
        "> confidence (X→Y)=(support(X,Y))/(support(X)).\n",
        "\n",
        "Important is that the confidence that X leads to Y is not the same as confidence that Y leads to X. Strong association rules have both high support and high confidence. \n",
        "The metric **lift** measures how much more likely one item or itemset is to be purchased relative to its typical rate of purchase, given that you know another item or itemset has been purchased. The according formula is:\n",
        "\n",
        "> lift(X→Y)=(confidence(X→Y))/(support (Y)).\n",
        "\n",
        "The procedure of the apriori algorithm is as follows:\n",
        "\n",
        "1.   The algorithm identifies all itemsets that meet the minimum support threshold applying multiple iterations with increasing size of itemsets.\n",
        "2.   Then, the algorithm creates rules from these itemsets using those meeting the minimums confidence threshold.\n",
        "\n",
        "\n",
        " \n",
        "\n",
        "\n",
        "\n"
      ]
    },
    {
      "cell_type": "markdown",
      "metadata": {
        "id": "Yz5juI5tpHty",
        "colab_type": "text"
      },
      "source": [
        "## Example - identifying frequently purchased groceries with association rules\n",
        "\n",
        "###Step 1: Collecting data\n",
        "The dataset comprises of 9835 transactions and has is based on the fundamental assumption that only one specific brand per product is offered. \n",
        "\n",
        "###Step 2: Exploring and preparing the data\n",
        "The transactional data used in this chapter differs from the one used in previous chapters. The dataset is comprised of comma-separated lists of varying number of items purchased in each transaction. Instead of using a conventional matrix where each row has the same set of features a sparse matrix is used. Each row of the latter contains a transaction and runs through as many columns as there are possible items in the shopping bag. As not every customer buys all product types, some cells doesn’t contain values. This characteristic makes sparse matrices memory efficient as only occupied cells are saved. "
      ]
    },
    {
      "cell_type": "code",
      "metadata": {
        "id": "iDUUXEhgzHXl",
        "colab_type": "code",
        "outputId": "e05bc715-2c2b-42f1-a3b6-b357a27ca1b3",
        "colab": {
          "base_uri": "https://localhost:8080/",
          "height": 299
        }
      },
      "source": [
        "install.packages('arules', repos='http://cran.rstudio.com/')\n",
        "library(arules)\n",
        "groceries <- read.transactions(\"groceries.csv\", sep = \",\")\n",
        "summary(groceries)"
      ],
      "execution_count": 0,
      "outputs": [
        {
          "output_type": "stream",
          "text": [
            "Installing package into ‘/usr/local/lib/R/site-library’\n",
            "(as ‘lib’ is unspecified)\n",
            "\n",
            "Warning message in file(con, \"r\"):\n",
            "“cannot open file 'groceries.csv': No such file or directory”\n"
          ],
          "name": "stderr"
        },
        {
          "output_type": "error",
          "ename": "ERROR",
          "evalue": "ignored",
          "traceback": [
            "Error in file(con, \"r\"): cannot open the connection\nTraceback:\n",
            "1. read.transactions(\"groceries.csv\", sep = \",\")",
            "2. lapply(readLines(file, encoding = encoding), FUN = function(l) scan(text = l, \n .     what = \"character\", sep = sep, quote = quote, quiet = TRUE, \n .     encoding = encoding))",
            "3. readLines(file, encoding = encoding)",
            "4. file(con, \"r\")"
          ]
        }
      ]
    }
  ]
}