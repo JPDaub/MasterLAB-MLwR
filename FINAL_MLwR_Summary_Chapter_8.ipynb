{
  "nbformat": 4,
  "nbformat_minor": 0,
  "metadata": {
    "colab": {
      "name": "FINAL_MLwR_Summary_Chapter-8.ipynb",
      "provenance": [],
      "collapsed_sections": [],
      "toc_visible": true,
      "authorship_tag": "ABX9TyPfdeeNSymLeNO+OqbQw36a",
      "include_colab_link": true
    },
    "kernelspec": {
      "name": "ir",
      "display_name": "R"
    }
  },
  "cells": [
    {
      "cell_type": "markdown",
      "metadata": {
        "id": "view-in-github",
        "colab_type": "text"
      },
      "source": [
        "<a href=\"https://colab.research.google.com/github/JPDaub/MasterLAB-MLwR/blob/master/FINAL_MLwR_Summary_Chapter_8.ipynb\" target=\"_parent\"><img src=\"https://colab.research.google.com/assets/colab-badge.svg\" alt=\"Open In Colab\"/></a>"
      ]
    },
    {
      "cell_type": "markdown",
      "metadata": {
        "id": "VPIg0GtL7v9j",
        "colab_type": "text"
      },
      "source": [
        "# Chapter 8: Finding Patterns - Market Basket Analysis Using Association Rules\n",
        "Machine Learning with R - Brett Lantz \n",
        "\n",
        "---\n",
        "Impulse purchases are often no coincidence as retailers use refined techniques to analyze customer buying behavior. Using this example, Chapter 8 describes and explains how machine learning algorithms are able to search for purchasing patterns of retail customers using barcode scanners, inventory databases and online shopping cards. This search is commonly referred to as market basket analysis. \n"
      ]
    },
    {
      "cell_type": "markdown",
      "metadata": {
        "id": "xb-Ut-RO7_1d",
        "colab_type": "text"
      },
      "source": [
        "## Theoretical basics\n",
        "This part aims to provide the reader with an theoretical understanding of the underlying concepts of market basket analysis.\n",
        "### Understanding association rules\n",
        "The goal of market basket analyses is the generation of association rules which enumerate patterns within the relationship among (purchased) items. An itemset is a group of one or more items in a single transaction and is denoted as follows: \n",
        "> {bread, peanut butter, jelly}.\n",
        "\n",
        "Resulting from this, the denotation of association rules is\n",
        "\n",
        "> {peanut butter,jelly} → {bread}.\n",
        "\n",
        "The left-hand-side (LHS) is the condition that has to be met in order to trigger the rule and the right-hand-side (RHS) is the expected result of meeting that condition.  \n",
        "\n",
        "A common approach to assess association rules is dividing them up into three categories: actionable, trivial, and inexplicable. Actionable rules are clearly formulated and provide meaningful insight. Trivial rules are clear but are not worth consideration as they provide only negligible information. The last category, inexplicable rules, are characterized by unclear relationships between items.\n",
        "\n",
        "Association rules are unsupervised learners which means that there is no need for the algorithm to be trained as it only finds interesting patterns in the dataset. Furthermore, they are used for knowledge discovery in large datasets rather than predictions. The foremost downside of association rules is the absence of an objective way to measure performance rule learner. \n",
        "\n",
        "### The apriori algorithm\n",
        "The datasets used for market basket analyses are almost always large. The number of potential itemsets grows exponentially with the number of features. The apriori algorithm constitutes a solution for this dilemma as the algorithm utilizes a simple prior belief about the properties of frequent itemsets. The apriori property suggests that all subsets of a frequent itemset must also be frequent: If either {motor oil} or {lipstick} or both are considered infrequent the itemset {motor oil, lipstick} is eliminated as well. This approach reduces the number of rules for which the algorithm searches.\n",
        "\n",
        "The algorithm uses statistical measures, namely support, confidence and lift, of an itemset to define a minimum threshold and to locate association rules. The **support** of an itemset answers the question of how frequently an itemset or rule occur in the data. \n",
        "A rule’s **confidence** is the measurement of its predictive power/accuracy and is defined with the following formula: \n",
        "\n",
        "> confidence (X→Y)=(support(X,Y))/(support(X)).\n",
        "\n",
        "Important is that the confidence that X leads to Y is not the same as confidence that Y leads to X. Strong association rules have both high support and high confidence. \n",
        "The metric **lift** measures how much more likely one item or itemset is to be purchased relative to its typical rate of purchase, given that you know another item or itemset has been purchased. The according formula is:\n",
        "\n",
        "> lift(X→Y)=(confidence(X→Y))/(support (Y)).\n",
        "\n",
        "The procedure of the apriori algorithm is as follows:\n",
        "\n",
        "1.   The algorithm identifies all itemsets that meet the minimum support threshold applying multiple iterations with increasing size of itemsets.\n",
        "2.   Then, the algorithm creates rules from these itemsets using those meeting the minimums confidence threshold."
      ]
    },
    {
      "cell_type": "markdown",
      "metadata": {
        "id": "kZFD05uc8KyZ",
        "colab_type": "text"
      },
      "source": [
        "## Example - identifying frequently purchased groceries with association rules"
      ]
    },
    {
      "cell_type": "markdown",
      "metadata": {
        "id": "M6VqOQOY8bzR",
        "colab_type": "text"
      },
      "source": [
        "###Step 1: Collecting data\n",
        "The dataset comprises of 9835 transactions and has is based on the fundamental assumption that only one specific brand per product is offered. "
      ]
    },
    {
      "cell_type": "markdown",
      "metadata": {
        "id": "dWv98wVg9He7",
        "colab_type": "text"
      },
      "source": [
        "###Step 2: Exploring and preparing the data\n",
        "The transactional data used in this chapter differs from the one used in previous chapters. The dataset is comprised of comma-separated lists of varying number of items purchased in each transaction. Instead of using a conventional matrix where each row has the same set of features a sparse matrix is used. Each row of the latter contains a transaction and runs through as many columns as there are possible items in the shopping bag. As not every customer buys all product types, some cells doesn’t contain values. This characteristic makes sparse matrices memory efficient as only occupied cells are saved. "
      ]
    },
    {
      "cell_type": "code",
      "metadata": {
        "id": "FE7ivXof9MqA",
        "colab_type": "code",
        "outputId": "bea7d70c-dc36-4891-85d5-41001729883b",
        "colab": {
          "base_uri": "https://localhost:8080/",
          "height": 986
        }
      },
      "source": [
        "install.packages('arules', repos='http://cran.rstudio.com/')\n",
        "library(arules)\n",
        "groceries <- read.transactions(\"https://raw.githubusercontent.com/JPDaub/MasterLAB-MLwR/master/groceries.csv\", sep = \",\")\n",
        "summary(groceries)\n",
        "inspect(groceries[1:5])\n",
        "itemFrequency(groceries[, 1:3])"
      ],
      "execution_count": 0,
      "outputs": [
        {
          "output_type": "stream",
          "text": [
            "Installing package into ‘/usr/local/lib/R/site-library’\n",
            "(as ‘lib’ is unspecified)\n",
            "\n",
            "Loading required package: Matrix\n",
            "\n",
            "\n",
            "Attaching package: ‘arules’\n",
            "\n",
            "\n",
            "The following objects are masked from ‘package:base’:\n",
            "\n",
            "    abbreviate, write\n",
            "\n",
            "\n"
          ],
          "name": "stderr"
        },
        {
          "output_type": "display_data",
          "data": {
            "text/plain": [
              "transactions as itemMatrix in sparse format with\n",
              " 9835 rows (elements/itemsets/transactions) and\n",
              " 169 columns (items) and a density of 0.02609146 \n",
              "\n",
              "most frequent items:\n",
              "      whole milk other vegetables       rolls/buns             soda \n",
              "            2513             1903             1809             1715 \n",
              "          yogurt          (Other) \n",
              "            1372            34055 \n",
              "\n",
              "element (itemset/transaction) length distribution:\n",
              "sizes\n",
              "   1    2    3    4    5    6    7    8    9   10   11   12   13   14   15   16 \n",
              "2159 1643 1299 1005  855  645  545  438  350  246  182  117   78   77   55   46 \n",
              "  17   18   19   20   21   22   23   24   26   27   28   29   32 \n",
              "  29   14   14    9   11    4    6    1    1    1    1    3    1 \n",
              "\n",
              "   Min. 1st Qu.  Median    Mean 3rd Qu.    Max. \n",
              "  1.000   2.000   3.000   4.409   6.000  32.000 \n",
              "\n",
              "includes extended item information - examples:\n",
              "            labels\n",
              "1 abrasive cleaner\n",
              "2 artif. sweetener\n",
              "3   baby cosmetics"
            ]
          },
          "metadata": {
            "tags": []
          }
        },
        {
          "output_type": "stream",
          "text": [
            "    items                     \n",
            "[1] {citrus fruit,            \n",
            "     margarine,               \n",
            "     ready soups,             \n",
            "     semi-finished bread}     \n",
            "[2] {coffee,                  \n",
            "     tropical fruit,          \n",
            "     yogurt}                  \n",
            "[3] {whole milk}              \n",
            "[4] {cream cheese,            \n",
            "     meat spreads,            \n",
            "     pip fruit,               \n",
            "     yogurt}                  \n",
            "[5] {condensed milk,          \n",
            "     long life bakery product,\n",
            "     other vegetables,        \n",
            "     whole milk}              \n"
          ],
          "name": "stdout"
        },
        {
          "output_type": "display_data",
          "data": {
            "text/plain": [
              "abrasive cleaner artif. sweetener   baby cosmetics \n",
              "    0.0035587189     0.0032536858     0.0006100661 "
            ],
            "text/latex": "\\begin{description*}\n\\item[abrasive cleaner] 0.00355871886120996\n\\item[artif. sweetener] 0.0032536858159634\n\\item[baby cosmetics] 0.000610066090493137\n\\end{description*}\n",
            "text/markdown": "abrasive cleaner\n:   0.00355871886120996artif. sweetener\n:   0.0032536858159634baby cosmetics\n:   0.000610066090493137\n\n",
            "text/html": [
              "<style>\n",
              ".dl-inline {width: auto; margin:0; padding: 0}\n",
              ".dl-inline>dt, .dl-inline>dd {float: none; width: auto; display: inline-block}\n",
              ".dl-inline>dt::after {content: \":\\0020\"; padding-right: .5ex}\n",
              ".dl-inline>dt:not(:first-of-type) {padding-left: .5ex}\n",
              "</style><dl class=dl-inline><dt>abrasive cleaner</dt><dd>0.00355871886120996</dd><dt>artif. sweetener</dt><dd>0.0032536858159634</dd><dt>baby cosmetics</dt><dd>0.000610066090493137</dd></dl>\n"
            ]
          },
          "metadata": {
            "tags": []
          }
        }
      ]
    },
    {
      "cell_type": "markdown",
      "metadata": {
        "id": "gfxZxlnn9QIs",
        "colab_type": "text"
      },
      "source": [
        "The `arules`-package (derived from association rules) includes useful features and is integral for this machine learning exercise. The `summary()` command displays basic information about the dataset. The block summarizes the sparse matrix. This dataset contains of 9835 rows (transactions) and 169 columns (items that could appear in a shopping bag). The density indicates the proportion of non-zero cells. The second block shows the most frequent items occurring in the dataset. The last block displays basic statistics about the size of the transaction, including how often each transaction size occurs, minimum and maximum values as well as the quartiles.The `inspect()` function can be used to have a look at the first 5 transactions and the `itemFrequency()` displays the proportion of transaction that contain either of the first three items in alphabetical order."
      ]
    },
    {
      "cell_type": "code",
      "metadata": {
        "id": "P5PhO9pR9TPI",
        "colab_type": "code",
        "outputId": "d530d532-638f-444c-9c28-2aa4fba241e7",
        "colab": {
          "base_uri": "https://localhost:8080/",
          "height": 857
        }
      },
      "source": [
        "itemFrequencyPlot(groceries, support = 0.1)\n",
        "itemFrequencyPlot(groceries, topN = 20)"
      ],
      "execution_count": 0,
      "outputs": [
        {
          "output_type": "display_data",
          "data": {
            "image/png": "[encoded data removed]",
            "text/plain": [
              "plot without title"
            ]
          },
          "metadata": {
            "tags": [],
            "image/png": {
              "width": 420,
              "height": 420
            },
            "text/plain": {
              "width": 420,
              "height": 420
            }
          }
        },
        {
          "output_type": "display_data",
          "data": {
            "image/png": "[encoded data removed]",
            "text/plain": [
              "plot without title"
            ]
          },
          "metadata": {
            "tags": [],
            "image/png": {
              "width": 420,
              "height": 420
            },
            "text/plain": {
              "width": 420,
              "height": 420
            }
          }
        }
      ]
    },
    {
      "cell_type": "markdown",
      "metadata": {
        "id": "9dwf6W659Vty",
        "colab_type": "text"
      },
      "source": [
        "The `image()` function provides the user with a visualization of the entire sparse matrix from an bird’s eye perspective. The first specification reduces the picture to the first 5 transactions whereas the second one depicts 100 randomly selected transactions. A significant disadvantage of this form of visualization is the difficulty reading the output. However, this image provides the reader with an valuable overview of the transaction data."
      ]
    },
    {
      "cell_type": "markdown",
      "metadata": {
        "id": "be0aUlYW9cAD",
        "colab_type": "text"
      },
      "source": [
        "###Step 3: training a model on the data\n",
        "This step contains the search for associations among the item and itemsets using the Apriori-algorithm implemented in the arules-package. "
      ]
    },
    {
      "cell_type": "code",
      "metadata": {
        "id": "CKM8Wvvc9g4w",
        "colab_type": "code",
        "outputId": "aea37ae6-0201-41a2-fa22-30052fcc3cb9",
        "colab": {
          "base_uri": "https://localhost:8080/",
          "height": 391
        }
      },
      "source": [
        "apriori(groceries)"
      ],
      "execution_count": 0,
      "outputs": [
        {
          "output_type": "stream",
          "text": [
            "Apriori\n",
            "\n",
            "Parameter specification:\n",
            " confidence minval smax arem  aval originalSupport maxtime support minlen\n",
            "        0.8    0.1    1 none FALSE            TRUE       5     0.1      1\n",
            " maxlen target   ext\n",
            "     10  rules FALSE\n",
            "\n",
            "Algorithmic control:\n",
            " filter tree heap memopt load sort verbose\n",
            "    0.1 TRUE TRUE  FALSE TRUE    2    TRUE\n",
            "\n",
            "Absolute minimum support count: 983 \n",
            "\n",
            "set item appearances ...[0 item(s)] done [0.00s].\n",
            "set transactions ...[169 item(s), 9835 transaction(s)] done [0.00s].\n",
            "sorting and recoding items ... [8 item(s)] done [0.00s].\n",
            "creating transaction tree ... done [0.00s].\n",
            "checking subsets of size 1 2 done [0.00s].\n",
            "writing ... [0 rule(s)] done [0.00s].\n",
            "creating S4 object  ... done [0.00s].\n"
          ],
          "name": "stdout"
        },
        {
          "output_type": "display_data",
          "data": {
            "text/plain": [
              "set of 0 rules "
            ]
          },
          "metadata": {
            "tags": []
          }
        }
      ]
    },
    {
      "cell_type": "markdown",
      "metadata": {
        "id": "F8tUg2vm9jjK",
        "colab_type": "text"
      },
      "source": [
        "Using the default settings of the `apriori()` function (`support` = 0.1, `confidence` = 0.8) results with zero rules which is not surprising as the support level is too high for the underlying dataset. "
      ]
    },
    {
      "cell_type": "code",
      "metadata": {
        "id": "04I-wrRE9mbs",
        "colab_type": "code",
        "outputId": "1af6c110-fac7-494f-f027-b0859a409d89",
        "colab": {
          "base_uri": "https://localhost:8080/",
          "height": 391
        }
      },
      "source": [
        "groceryrules <- apriori(groceries, parameter = list(support =\n",
        "                          0.006, confidence = 0.25, minlen = 2))\n",
        "groceryrules"
      ],
      "execution_count": 0,
      "outputs": [
        {
          "output_type": "stream",
          "text": [
            "Apriori\n",
            "\n",
            "Parameter specification:\n",
            " confidence minval smax arem  aval originalSupport maxtime support minlen\n",
            "       0.25    0.1    1 none FALSE            TRUE       5   0.006      2\n",
            " maxlen target   ext\n",
            "     10  rules FALSE\n",
            "\n",
            "Algorithmic control:\n",
            " filter tree heap memopt load sort verbose\n",
            "    0.1 TRUE TRUE  FALSE TRUE    2    TRUE\n",
            "\n",
            "Absolute minimum support count: 59 \n",
            "\n",
            "set item appearances ...[0 item(s)] done [0.00s].\n",
            "set transactions ...[169 item(s), 9835 transaction(s)] done [0.00s].\n",
            "sorting and recoding items ... [109 item(s)] done [0.00s].\n",
            "creating transaction tree ... done [0.00s].\n",
            "checking subsets of size 1 2 3 4 done [0.00s].\n",
            "writing ... [463 rule(s)] done [0.00s].\n",
            "creating S4 object  ... done [0.00s].\n"
          ],
          "name": "stdout"
        },
        {
          "output_type": "display_data",
          "data": {
            "text/plain": [
              "set of 463 rules "
            ]
          },
          "metadata": {
            "tags": []
          }
        }
      ]
    },
    {
      "cell_type": "markdown",
      "metadata": {
        "id": "Yz834DuA9o1p",
        "colab_type": "text"
      },
      "source": [
        "Using the `apriori()` function with this parameter-lists results in a set of 463 rules. The first block of the formula is the dataset `groceries`. As multiple parameters are used, they are defined as a list. To find the right parameters a process of trial and error is needed. The minimum `support` level, which displays the smallest number of transactions needed to find a pattern worth consideration, is 0.006 (two purchases per day and approximately 60 purchases per month). Using a suitable level of `confidence` is equally important. If the threshold is too high, only few and often obvious rules will be found. Setting the threshold too low will result in too many unreliable rules. Using a level of 0.25 means that only rules will be considered that are correct at least 25% of the time. The `minlen` parameter deletes all rules with fewer than 2 items eliminating uninteresting rules. "
      ]
    },
    {
      "cell_type": "markdown",
      "metadata": {
        "id": "VhjLW0Sj9uvV",
        "colab_type": "text"
      },
      "source": [
        "###Step 4: Evaluating model performance\n",
        "Before starting with the evaluation a high-level overview of the rules is useful. "
      ]
    },
    {
      "cell_type": "code",
      "metadata": {
        "id": "n2lialFr-m4X",
        "colab_type": "code",
        "outputId": "9415ba58-7ffc-4a43-c097-5a3701a1db0f",
        "colab": {
          "base_uri": "https://localhost:8080/",
          "height": 442
        }
      },
      "source": [
        "summary(groceryrules)\n",
        "inspect(groceryrules[1:3])"
      ],
      "execution_count": 0,
      "outputs": [
        {
          "output_type": "display_data",
          "data": {
            "text/plain": [
              "set of 463 rules\n",
              "\n",
              "rule length distribution (lhs + rhs):sizes\n",
              "  2   3   4 \n",
              "150 297  16 \n",
              "\n",
              "   Min. 1st Qu.  Median    Mean 3rd Qu.    Max. \n",
              "  2.000   2.000   3.000   2.711   3.000   4.000 \n",
              "\n",
              "summary of quality measures:\n",
              "    support           confidence          lift            count      \n",
              " Min.   :0.006101   Min.   :0.2500   Min.   :0.9932   Min.   : 60.0  \n",
              " 1st Qu.:0.007117   1st Qu.:0.2971   1st Qu.:1.6229   1st Qu.: 70.0  \n",
              " Median :0.008744   Median :0.3554   Median :1.9332   Median : 86.0  \n",
              " Mean   :0.011539   Mean   :0.3786   Mean   :2.0351   Mean   :113.5  \n",
              " 3rd Qu.:0.012303   3rd Qu.:0.4495   3rd Qu.:2.3565   3rd Qu.:121.0  \n",
              " Max.   :0.074835   Max.   :0.6600   Max.   :3.9565   Max.   :736.0  \n",
              "\n",
              "mining info:\n",
              "      data ntransactions support confidence\n",
              " groceries          9835   0.006       0.25"
            ]
          },
          "metadata": {
            "tags": []
          }
        },
        {
          "output_type": "stream",
          "text": [
            "    lhs                rhs               support     confidence lift     count\n",
            "[1] {potted plants} => {whole milk}      0.006914082 0.4000000  1.565460 68   \n",
            "[2] {pasta}         => {whole milk}      0.006100661 0.4054054  1.586614 60   \n",
            "[3] {herbs}         => {root vegetables} 0.007015760 0.4312500  3.956477 69   \n"
          ],
          "name": "stdout"
        }
      ]
    },
    {
      "cell_type": "markdown",
      "metadata": {
        "id": "MMf24iqc-pes",
        "colab_type": "text"
      },
      "source": [
        "The first block of the output shows the number of rules, the length/size of the rules as the sum of LHS and RHS as well as basic statistical measures. The second block displays the summary of the quality measures (support, confidence and lift). The ultimate block provided by the `summary()` command is the mining information explaining how the rules were chosen. The `inspect()` function allows the user to review the rules the algorithm found. \n"
      ]
    },
    {
      "cell_type": "markdown",
      "metadata": {
        "id": "_K1KkkIAas7Q",
        "colab_type": "text"
      },
      "source": [
        "###Step 5: Improving model performance\n",
        "\n",
        "This step helps to sort the set of rules in a way so that useful rules can be detected as quick and easy as possible and to create subsets of rules which filters for rules including only specified items."
      ]
    },
    {
      "cell_type": "code",
      "metadata": {
        "id": "90N6wZHdbiLe",
        "colab_type": "code",
        "outputId": "6915e203-ac5f-4377-e73d-85ad9995dcd6",
        "colab": {
          "base_uri": "https://localhost:8080/",
          "height": 272
        }
      },
      "source": [
        "inspect(sort(groceryrules, by = \"lift\")[1:5])\n",
        "berryrules <- subset(groceryrules, items %in% \"berries\")\n",
        "inspect(berryrules)"
      ],
      "execution_count": 0,
      "outputs": [
        {
          "output_type": "stream",
          "text": [
            "    lhs                   rhs                      support confidence     lift count\n",
            "[1] {herbs}            => {root vegetables}    0.007015760  0.4312500 3.956477    69\n",
            "[2] {berries}          => {whipped/sour cream} 0.009049314  0.2721713 3.796886    89\n",
            "[3] {other vegetables,                                                              \n",
            "     tropical fruit,                                                                \n",
            "     whole milk}       => {root vegetables}    0.007015760  0.4107143 3.768074    69\n",
            "[4] {beef,                                                                          \n",
            "     other vegetables} => {root vegetables}    0.007930859  0.4020619 3.688692    78\n",
            "[5] {other vegetables,                                                              \n",
            "     tropical fruit}   => {pip fruit}          0.009456024  0.2634561 3.482649    93\n",
            "    lhs          rhs                  support     confidence lift     count\n",
            "[1] {berries} => {whipped/sour cream} 0.009049314 0.2721713  3.796886  89  \n",
            "[2] {berries} => {yogurt}             0.010574479 0.3180428  2.279848 104  \n",
            "[3] {berries} => {other vegetables}   0.010269446 0.3088685  1.596280 101  \n",
            "[4] {berries} => {whole milk}         0.011794611 0.3547401  1.388328 116  \n"
          ],
          "name": "stdout"
        }
      ]
    },
    {
      "cell_type": "markdown",
      "metadata": {
        "id": "SeY8x_F8bmfU",
        "colab_type": "text"
      },
      "source": [
        "Using the `sort()` function implemented in the `arules` package, the rules can be sorted according to specified criteria (e.g. values of quality measure). In the example the rules are now depicted in decreasing order of their lift-value.\n",
        "\n",
        "In certain situations, taking subsets can be an integral tool. If for instance a marketing department aims to promote a specific seasonal product like berries, it would be useful to know whether berries are bought in combination with other products. Therefore, building a subset with all rules which include berries provides invaluable information to the department. The `subset()` function filters for all rules including berries.\n",
        "\n",
        "Other specifications for this function include the following:\n",
        "\n",
        "*   Items refers to any matches within the rule. This can be specified with LHS/RHS\n",
        "*   `%in% c(“fruit”, “berries”)` searches for all items listed in the vector\n",
        "*   `%pin% “fruit”` searches for all rules which include “fruit” (e.g. “tropical fruit”, “citrus fruit”)\n",
        "*   Matching criteria can be combined using operators such as AND(`&`), OR(`|`), NOT(`!`)\n",
        "\n",
        "The last part of this exercise is saving the set of rules to either a CSV-file or a data frame."
      ]
    },
    {
      "cell_type": "code",
      "metadata": {
        "id": "7Na5GRxJhPB1",
        "colab_type": "code",
        "outputId": "ebd6e6ef-82ff-4c65-9f58-1b78ab13ce6d",
        "colab": {
          "base_uri": "https://localhost:8080/",
          "height": 119
        }
      },
      "source": [
        "write(groceryrules, file = \"groceryrules.csv\",\n",
        "      sep = \",\", quote = TRUE, row.names = FALSE)\n",
        "\n",
        "groceryrules_df <- as(groceryrules, \"data.frame\")\n",
        "str(groceryrules_df)"
      ],
      "execution_count": 0,
      "outputs": [
        {
          "output_type": "stream",
          "text": [
            "'data.frame':\t463 obs. of  5 variables:\n",
            " $ rules     : Factor w/ 463 levels \"{baking powder} => {other vegetables}\",..: 340 302 207 206 208 341 402 21 139 140 ...\n",
            " $ support   : num  0.00691 0.0061 0.00702 0.00773 0.00773 ...\n",
            " $ confidence: num  0.4 0.405 0.431 0.475 0.475 ...\n",
            " $ lift      : num  1.57 1.59 3.96 2.45 1.86 ...\n",
            " $ count     : int  68 60 69 76 76 69 70 67 63 88 ...\n"
          ],
          "name": "stdout"
        }
      ]
    },
    {
      "cell_type": "markdown",
      "metadata": {
        "id": "gHWv5mgPhVz6",
        "colab_type": "text"
      },
      "source": [
        "##Summary\n",
        "Association rules are used to find patterns in large sets of transaction data without any prior knowledge about possible and useful patterns. The apriori algorithm helps to reduce the vast amount of information into manageable proportions including only those rules meeting the predefined criteria by setting minimum thresholds. This chapter explained association rules and the apriori algorithm with the example of a market basket analysis of a retail store. Further potential applications include:\n",
        "\n",
        "*   Searching for interesting and frequently occurring patterns of DNA and protein sequences in cancer data\n",
        "*   Finding patterns of purchases of medical claims that occur in combination with fraudulent credit card or insurance use\n",
        "*   Identifying combinations of behavior that precede customers dropping their cellular phone service or upgrading their cable television package"
      ]
    }
  ]
}